{
 "cells": [
  {
   "cell_type": "code",
   "execution_count": null,
   "metadata": {},
   "outputs": [],
   "source": [
    "#pip install pyserial\n",
    "\n",
    "\n",
    "# to know on which port the arduino is connected\n",
    "def active_arduino_serial_port():\n",
    "    ports = list(list_ports.comports())\n",
    "    for p in ports:\n",
    "        if 'USB' in p.description: # 'Arduino' or 'USB' in p.description:\n",
    "            print(\"Device found on port :\", p.device)\n",
    "            return p.device"
   ]
  },
  {
   "cell_type": "code",
   "execution_count": null,
   "metadata": {},
   "outputs": [],
   "source": [
    "def open_serial_port(port_number):\n",
    "    try:\n",
    "        port_serie = Serial(port_number, 9600, timeout=1) #ouverture du port série\n",
    "        return port_serie\n",
    "    except(Exception) as error:\n",
    "        print(\"Error: \", error)\n",
    "        return None\n"
   ]
  },
  {
   "cell_type": "code",
   "execution_count": null,
   "metadata": {},
   "outputs": [],
   "source": [
    "#write on the serial port\n",
    "def write_serial_port(port_serie, text2send):\n",
    "    try:\n",
    "        port_serie.write(text2send.encode('ascii')) #écriture du nombre sur le port série\n",
    "        print(\"The port serie has sent\")\n",
    "    except(Exception) as error:\n",
    "        print(\"Error: \", error)\n",
    "\n",
    "        \n"
   ]
  },
  {
   "cell_type": "code",
   "execution_count": 81,
   "metadata": {},
   "outputs": [
    {
     "name": "stdout",
     "output_type": "stream",
     "text": [
      "Device found on port : COM3\n",
      "The port serie is open\n",
      "The port serie has sent\n"
     ]
    }
   ],
   "source": [
    "from serial import *\n",
    "import sys\n",
    "import serial.tools.list_ports as list_ports\n",
    "\n",
    "port_number = active_arduino_serial_port()\n",
    "text2send =\"02000300\" #text to send to the arduino : aaaabbbb, a --> xposi, b --> yposi\n",
    "\n",
    "if port_number is None:\n",
    "    print(\"No serial device found\")\n",
    "else:\n",
    "    port_serie = open_serial_port(port_number)\n",
    "    if port_serie is not None:\n",
    "        print(\"The port serie is open\")\n",
    "        write_serial_port(port_serie, text2send)\n",
    "\n",
    "\n"
   ]
  },
  {
   "cell_type": "code",
   "execution_count": 85,
   "metadata": {},
   "outputs": [
    {
     "name": "stdout",
     "output_type": "stream",
     "text": [
      "0\n",
      "0\n",
      "0\n",
      "0\n",
      "0\n",
      "0\n",
      "0\n",
      "0\n",
      "0\n",
      "0\n",
      "0\n",
      "0\n",
      "0\n",
      "0\n",
      "0\n",
      "0\n",
      "0\n",
      "0\n",
      "0\n",
      "0\n",
      "0\n",
      "0\n",
      "0\n",
      "0\n"
     ]
    },
    {
     "ename": "KeyboardInterrupt",
     "evalue": "",
     "output_type": "error",
     "traceback": [
      "\u001b[1;31m---------------------------------------------------------------------------\u001b[0m",
      "\u001b[1;31mKeyboardInterrupt\u001b[0m                         Traceback (most recent call last)",
      "\u001b[1;32mc:\\Users\\adott\\Desktop\\caméra autofocus\\liaison série.ipynb Cell 5\u001b[0m in \u001b[0;36m<cell line: 3>\u001b[1;34m()\u001b[0m\n\u001b[0;32m      <a href='vscode-notebook-cell:/c%3A/Users/adott/Desktop/cam%C3%A9ra%20autofocus/liaison%20s%C3%A9rie.ipynb#W4sZmlsZQ%3D%3D?line=1'>2</a>\u001b[0m \u001b[39mwhile\u001b[39;00m \u001b[39mTrue\u001b[39;00m : \n\u001b[0;32m      <a href='vscode-notebook-cell:/c%3A/Users/adott/Desktop/cam%C3%A9ra%20autofocus/liaison%20s%C3%A9rie.ipynb#W4sZmlsZQ%3D%3D?line=2'>3</a>\u001b[0m     \u001b[39mtry\u001b[39;00m:\n\u001b[1;32m----> <a href='vscode-notebook-cell:/c%3A/Users/adott/Desktop/cam%C3%A9ra%20autofocus/liaison%20s%C3%A9rie.ipynb#W4sZmlsZQ%3D%3D?line=3'>4</a>\u001b[0m         text_received \u001b[39m=\u001b[39m port_serie\u001b[39m.\u001b[39;49mreadline()\n\u001b[0;32m      <a href='vscode-notebook-cell:/c%3A/Users/adott/Desktop/cam%C3%A9ra%20autofocus/liaison%20s%C3%A9rie.ipynb#W4sZmlsZQ%3D%3D?line=4'>5</a>\u001b[0m         \u001b[39mprint\u001b[39m(port_serie\u001b[39m.\u001b[39min_waiting)\n\u001b[0;32m      <a href='vscode-notebook-cell:/c%3A/Users/adott/Desktop/cam%C3%A9ra%20autofocus/liaison%20s%C3%A9rie.ipynb#W4sZmlsZQ%3D%3D?line=5'>6</a>\u001b[0m         \u001b[39mif\u001b[39;00m  port_serie\u001b[39m.\u001b[39min_waiting \u001b[39m>\u001b[39m \u001b[39m0\u001b[39m \u001b[39mand\u001b[39;00m text_received \u001b[39m!=\u001b[39m \u001b[39m0\u001b[39m:\n",
      "File \u001b[1;32mc:\\Users\\adott\\AppData\\Local\\Programs\\Python\\Python39\\lib\\site-packages\\serial\\serialwin32.py:288\u001b[0m, in \u001b[0;36mSerial.read\u001b[1;34m(self, size)\u001b[0m\n\u001b[0;32m    286\u001b[0m \u001b[39mif\u001b[39;00m \u001b[39mnot\u001b[39;00m read_ok \u001b[39mand\u001b[39;00m win32\u001b[39m.\u001b[39mGetLastError() \u001b[39mnot\u001b[39;00m \u001b[39min\u001b[39;00m (win32\u001b[39m.\u001b[39mERROR_SUCCESS, win32\u001b[39m.\u001b[39mERROR_IO_PENDING):\n\u001b[0;32m    287\u001b[0m     \u001b[39mraise\u001b[39;00m SerialException(\u001b[39m\"\u001b[39m\u001b[39mReadFile failed (\u001b[39m\u001b[39m{!r}\u001b[39;00m\u001b[39m)\u001b[39m\u001b[39m\"\u001b[39m\u001b[39m.\u001b[39mformat(ctypes\u001b[39m.\u001b[39mWinError()))\n\u001b[1;32m--> 288\u001b[0m result_ok \u001b[39m=\u001b[39m win32\u001b[39m.\u001b[39;49mGetOverlappedResult(\n\u001b[0;32m    289\u001b[0m     \u001b[39mself\u001b[39;49m\u001b[39m.\u001b[39;49m_port_handle,\n\u001b[0;32m    290\u001b[0m     ctypes\u001b[39m.\u001b[39;49mbyref(\u001b[39mself\u001b[39;49m\u001b[39m.\u001b[39;49m_overlapped_read),\n\u001b[0;32m    291\u001b[0m     ctypes\u001b[39m.\u001b[39;49mbyref(rc),\n\u001b[0;32m    292\u001b[0m     \u001b[39mTrue\u001b[39;49;00m)\n\u001b[0;32m    293\u001b[0m \u001b[39mif\u001b[39;00m \u001b[39mnot\u001b[39;00m result_ok:\n\u001b[0;32m    294\u001b[0m     \u001b[39mif\u001b[39;00m win32\u001b[39m.\u001b[39mGetLastError() \u001b[39m!=\u001b[39m win32\u001b[39m.\u001b[39mERROR_OPERATION_ABORTED:\n",
      "\u001b[1;31mKeyboardInterrupt\u001b[0m: "
     ]
    }
   ],
   "source": [
    "#read on the serial port\n",
    "while True : \n",
    "    try:\n",
    "        text_received = port_serie.readline()\n",
    "        #print(port_serie.in_waiting)\n",
    "        if  port_serie.in_waiting > 0:\n",
    "            print(\"Text received from Arduino : \", text_received.decode('ascii')) \n",
    "    except(Exception) as error:\n",
    "        print(\"Error: \", error)\n",
    "        break\n"
   ]
  }
 ],
 "metadata": {
  "kernelspec": {
   "display_name": "Python 3",
   "language": "python",
   "name": "python3"
  },
  "language_info": {
   "codemirror_mode": {
    "name": "ipython",
    "version": 3
   },
   "file_extension": ".py",
   "mimetype": "text/x-python",
   "name": "python",
   "nbconvert_exporter": "python",
   "pygments_lexer": "ipython3",
   "version": "3.9.9"
  },
  "orig_nbformat": 4,
  "vscode": {
   "interpreter": {
    "hash": "ed233c995a5a3061e34e7fd23f59870161ddb8e5acb1a81c62411c689afee496"
   }
  }
 },
 "nbformat": 4,
 "nbformat_minor": 2
}
